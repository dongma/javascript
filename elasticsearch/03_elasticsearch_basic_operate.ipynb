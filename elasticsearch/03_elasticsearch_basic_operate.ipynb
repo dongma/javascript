{
 "cells": [
  {
   "cell_type": "raw",
   "id": "3113f618",
   "metadata": {},
   "source": [
    "在elasticsearch中通常是不用担心字段映射，因为elasticsearch会自动识别字段，并相应的调整字段"
   ]
  },
  {
   "cell_type": "code",
   "execution_count": null,
   "id": "4aaf7900",
   "metadata": {},
   "outputs": [],
   "source": [
    "curl 'localhost:9200/get-together/group/_mapping?pretty'"
   ]
  },
  {
   "cell_type": "code",
   "execution_count": null,
   "id": "eb004981",
   "metadata": {},
   "outputs": [],
   "source": [
    "{\n",
    "  \"get-together\" : {\n",
    "    \"mappings\" : {\n",
    "      \"group\" : {\n",
    "        \"properties\" : {\n",
    "          \"created_on\" : {\n",
    "            \"type\" : \"date\"\n",
    "          },\n",
    "          \"description\" : {\n",
    "            \"type\" : \"text\",\n",
    "            \"fields\" : {\n",
    "              \"keyword\" : {\n",
    "                \"type\" : \"keyword\",\n",
    "                \"ignore_above\" : 256\n",
    "              }\n",
    "            }\n",
    "          },\n",
    "          \"location_group\" : {\n",
    "            \"type\" : \"text\",\n",
    "            \"fields\" : {\n",
    "              \"keyword\" : {\n",
    "                \"type\" : \"keyword\",\n",
    "                \"ignore_above\" : 256\n",
    "              }\n",
    "            }\n",
    "          },\n",
    "          \"members\" : {\n",
    "            \"type\" : \"text\",\n",
    "            \"fields\" : {\n",
    "              \"keyword\" : {\n",
    "                \"type\" : \"keyword\",\n",
    "                \"ignore_above\" : 256\n",
    "              }\n",
    "            }\n",
    "          },\n",
    "          \"name\" : {\n",
    "            \"type\" : \"text\",\n",
    "            \"fields\" : {\n",
    "              \"keyword\" : {\n",
    "                \"type\" : \"keyword\",\n",
    "                \"ignore_above\" : 256\n",
    "              }\n",
    "            }\n",
    "          },\n",
    "          \"organizer\" : {\n",
    "            \"type\" : \"text\",\n",
    "            \"fields\" : {\n",
    "              \"keyword\" : {\n",
    "                \"type\" : \"keyword\",\n",
    "                \"ignore_above\" : 256\n",
    "              }\n",
    "            },\n",
    "            \"fielddata\" : true\n",
    "          },\n",
    "          \"organizers\" : {\n",
    "            \"type\" : \"text\",\n",
    "            \"fielddata\" : true\n",
    "          },\n",
    "          \"tags\" : {\n",
    "            \"type\" : \"text\",\n",
    "            \"fields\" : {\n",
    "              \"keyword\" : {\n",
    "                \"type\" : \"keyword\",\n",
    "                \"ignore_above\" : 256\n",
    "              }\n",
    "            }\n",
    "          }\n",
    "        }\n",
    "      }\n",
    "    }\n",
    "  }\n",
    "}"
   ]
  },
  {
   "cell_type": "raw",
   "id": "cb729ecb",
   "metadata": {},
   "source": [
    "创建一个新的索引类型，在索引中创建新的type："
   ]
  },
  {
   "cell_type": "code",
   "execution_count": null,
   "id": "64e71444",
   "metadata": {},
   "outputs": [],
   "source": [
    "curl -XPUT 'localhost:9200/mapping_events?pretty'"
   ]
  },
  {
   "cell_type": "code",
   "execution_count": null,
   "id": "f5a4122b",
   "metadata": {},
   "outputs": [],
   "source": [
    "{\"acknowledged\":true,\"shards_acknowledged\":true,\"index\":\"mapping_events\"}"
   ]
  },
  {
   "cell_type": "raw",
   "id": "7877c5ae",
   "metadata": {},
   "source": [
    "使用elasticsearch索引一个新文档(new-events)类型，然后elasticsearch会自动地创建映射。"
   ]
  },
  {
   "cell_type": "code",
   "execution_count": null,
   "id": "56dac0b5",
   "metadata": {},
   "outputs": [],
   "source": [
    "curl -H \"Content-Type:application/json\" -XPUT 'localhost:9200/mapping_events/new-events/1?pretty' -d '{\n",
    "    \"name\": \"Late Night with Elasticsearch\",\n",
    "    \"date\": \"2013-10-25T19:00\"\n",
    "}'"
   ]
  },
  {
   "cell_type": "raw",
   "id": "78495bfa",
   "metadata": {},
   "source": [
    "使用restful接口获取索引当前映射(对于新插入的文档,elasticsearch主动将date识别日期类型,将name识别为text类型)"
   ]
  },
  {
   "cell_type": "code",
   "execution_count": null,
   "id": "d469a27b",
   "metadata": {},
   "outputs": [],
   "source": [
    "curl 'localhost:9200/mapping_events/_mapping/new-events?pretty'"
   ]
  },
  {
   "cell_type": "code",
   "execution_count": null,
   "id": "cffc4820",
   "metadata": {},
   "outputs": [],
   "source": [
    "{\n",
    "  \"mapping_events\" : {\n",
    "    \"mappings\" : {\n",
    "      \"new-events\" : {\n",
    "        \"properties\" : {\n",
    "          \"date\" : {\n",
    "            \"type\" : \"date\"\n",
    "          },\n",
    "          \"name\" : {\n",
    "            \"type\" : \"text\",\n",
    "            \"fields\" : {\n",
    "              \"keyword\" : {\n",
    "                \"type\" : \"keyword\",\n",
    "                \"ignore_above\" : 256\n",
    "              }\n",
    "            }\n",
    "          }\n",
    "        }\n",
    "      }\n",
    "    }\n",
    "  }\n",
    "}"
   ]
  },
  {
   "cell_type": "raw",
   "id": "df955eea",
   "metadata": {},
   "source": [
    "可以通过put方法定义新的映射，需要在请求体中指定JSON格式的映射，格式和获取的映射相同。如果在现有基础上再设置一个映射，elasticsearch会\n",
    "将两者进行合并，在elasticsearch 5.x版本以上已经不存在string类型(使用text进行替换)。"
   ]
  },
  {
   "cell_type": "code",
   "execution_count": null,
   "id": "b12aacb2",
   "metadata": {},
   "outputs": [],
   "source": [
    "curl -H \"Content-Type:application/json\" -XPUT 'localhost:9200/mapping_events/_mapping/new-events' -d '{\n",
    "    \"new-events\": {\n",
    "        \"properties\": {\n",
    "            \"host\": {\n",
    "                \"type\": \"text\",\n",
    "                \"index\": false\n",
    "            }\n",
    "        }\n",
    "    }\n",
    "}'\n",
    "{\"acknowledged\":true}"
   ]
  },
  {
   "cell_type": "code",
   "execution_count": null,
   "id": "a0093c3e",
   "metadata": {},
   "outputs": [],
   "source": [
    "curl -XPUT 'localhost:9200/mapping_weekly-events?pretty'\n",
    "{\n",
    "  \"acknowledged\" : true,\n",
    "  \"shards_acknowledged\" : true,\n",
    "  \"index\" : \"mapping_weekly-events\"\n",
    "}"
   ]
  },
  {
   "cell_type": "raw",
   "id": "5ca10b12",
   "metadata": {},
   "source": [
    "在elasticsearch中使用默认的和定制的时间格式，通过_mapping自定义日期格式(其它日期格式是自动检测的，无需显示定义)"
   ]
  },
  {
   "cell_type": "code",
   "execution_count": null,
   "id": "f40a625c",
   "metadata": {},
   "outputs": [],
   "source": [
    "curl -H \"Content-Type:application/json\" -XPUT 'localhost:9200/mapping_weekly-events/_mapping/weekly-events' -d '{\n",
    "    \"weekly-events\": {\n",
    "        \"properties\": {\n",
    "            \"next_event\": {\n",
    "                \"type\": \"date\",\n",
    "                \"format\": \"MMMM DD YYYY\"\n",
    "            }\n",
    "        }\n",
    "    }\n",
    "}'\n",
    "\n",
    "{\"acknowledged\":true}"
   ]
  },
  {
   "cell_type": "raw",
   "id": "c7c02b2a",
   "metadata": {},
   "source": [
    "对于weekly-events类型新创建的映射，使用put方法新增记录(next_event日期格式会按照\"MMMM DD YYYY\"进行格式化)。"
   ]
  },
  {
   "cell_type": "code",
   "execution_count": null,
   "id": "de3d14c8",
   "metadata": {},
   "outputs": [],
   "source": [
    "curl -H \"Content-Type:application/json\" -XPUT 'localhost:9200/mapping_weekly-events/weekly-events/1' -d '{\n",
    "    \"name\": \"elasticsearch news\",\n",
    "    \"first_occurence\": \"2011-04-03\",\n",
    "    \"next_event\": \"Oct 25 2013\"\n",
    "}'"
   ]
  },
  {
   "cell_type": "code",
   "execution_count": null,
   "id": "eb47fd1c",
   "metadata": {},
   "outputs": [],
   "source": [
    "{\"_index\":\"mapping_weekly-events\",\"_type\":\"weekly-events\",\"_id\":\"1\",\"_version\":1,\"result\":\"created\",\"_shards\":{\"total\":2,\"successful\":1,\"failed\":0},\"_seq_no\":0,\"_primary_term\":1}"
   ]
  },
  {
   "cell_type": "raw",
   "id": "165ae3b8",
   "metadata": {},
   "source": [
    "elasticsearch中的数组(存在字段值类型为数组)和多字段(字段数据结构嵌套)"
   ]
  },
  {
   "cell_type": "code",
   "execution_count": null,
   "id": "c322c015",
   "metadata": {},
   "outputs": [],
   "source": [
    "curl -XPUT 'localhost:9200/multi_field_mapping?pretty'\n",
    "{\n",
    "  \"acknowledged\" : true,\n",
    "  \"shards_acknowledged\" : true,\n",
    "  \"index\" : \"multi_field_mapping\"\n",
    "}"
   ]
  },
  {
   "cell_type": "code",
   "execution_count": null,
   "id": "f1d46eac",
   "metadata": {},
   "outputs": [],
   "source": [
    "curl -H \"Content-Type:application/json\" -XPUT 'localhost:9200/multi_field_mapping/posts/1' -d '{\n",
    "    \"tags\": [\"first\", \"initial\"]\n",
    "}'"
   ]
  },
  {
   "cell_type": "code",
   "execution_count": null,
   "id": "36bbe597",
   "metadata": {},
   "outputs": [],
   "source": [
    "{\"_index\":\"multi_field_mapping\",\"_type\":\"posts\",\"_id\":\"1\",\"_version\":1,\"result\":\"created\",\"_shards\":{\"total\":2,\"successful\":1,\"failed\":0},\"_seq_no\":0,\"_primary_term\":1}"
   ]
  },
  {
   "cell_type": "raw",
   "id": "a4ae4a13",
   "metadata": {},
   "source": [
    "查看multi_field_mapping中posts类型的字段映射，本质上tags标签也是映射为text类型，与单值对象插入相同："
   ]
  },
  {
   "cell_type": "code",
   "execution_count": null,
   "id": "de396620",
   "metadata": {},
   "outputs": [],
   "source": [
    "curl 'localhost:9200/multi_field_mapping/_mapping/posts?pretty'"
   ]
  },
  {
   "cell_type": "code",
   "execution_count": null,
   "id": "ad4395b9",
   "metadata": {},
   "outputs": [],
   "source": [
    "{\n",
    "  \"multi_field_mapping\" : {\n",
    "    \"mappings\" : {\n",
    "      \"posts\" : {\n",
    "        \"properties\" : {\n",
    "          \"tags\" : {\n",
    "            \"type\" : \"text\",\n",
    "            \"fields\" : {\n",
    "              \"keyword\" : {\n",
    "                \"type\" : \"keyword\",\n",
    "                \"ignore_above\" : 256\n",
    "              }\n",
    "            }\n",
    "          }\n",
    "        }\n",
    "      }\n",
    "    }\n",
    "  }\n",
    "}"
   ]
  },
  {
   "cell_type": "code",
   "execution_count": null,
   "id": "66f26e6c",
   "metadata": {},
   "outputs": [],
   "source": [
    "无需重新索引数据，就能将单字段升级到多字段，对于已经创建了string类型的标签字段，那么自动升级就会触发。"
   ]
  },
  {
   "cell_type": "code",
   "execution_count": null,
   "id": "9a155779",
   "metadata": {},
   "outputs": [],
   "source": [
    "curl -H \"Content-Type:application/json\" -XPUT 'localhost:9200/multi_field_mapping/posts/2' -d '{\n",
    "    \"tags\": \"second\"\n",
    "}'"
   ]
  },
  {
   "cell_type": "code",
   "execution_count": null,
   "id": "30d8abde",
   "metadata": {},
   "outputs": [],
   "source": [
    "{\"_index\":\"multi_field_mapping\",\"_type\":\"posts\",\"_id\":\"2\",\"_version\":1,\"result\":\"created\",\"_shards\":{\"total\":2,\"successful\":1,\"failed\":0},\"_seq_no\":0,\"_primary_term\":1}"
   ]
  },
  {
   "cell_type": "code",
   "execution_count": null,
   "id": "c5ede515",
   "metadata": {},
   "outputs": [],
   "source": [
    "curl -H \"Content-Type:application/json\" -XPUT 'localhost:9200/multi_field_mapping/_mapping/posts' -d '{\n",
    "    \"posts\": {\n",
    "        \"properties\": {\n",
    "            \"tags\": {\n",
    "                \"type\": \"text\",\n",
    "                \"index\": true,\n",
    "                \"fields\": {\n",
    "                    \"verbatim\": {\n",
    "                        \"type\": \"text\",\n",
    "                        \"index\": false\n",
    "                    }\n",
    "                }\n",
    "            }\n",
    "        }\n",
    "    }\n",
    "}'\n",
    "\n",
    "{\"acknowledged\":true}"
   ]
  },
  {
   "cell_type": "raw",
   "id": "a1c3c1dc",
   "metadata": {},
   "source": [
    "控制如何存储和搜索文档，_source存储原有内容信息._source字段的enabled可以设置为false或者true，来指定是否想要存储原始的文档(默认情况下为true)。对于索引数据的策略：_all是索引所有的信息，当搜索_all字段的时候，elasticsearch将在不考虑是哪个字段匹配成功的情况下，返回命中的文档。"
   ]
  },
  {
   "cell_type": "code",
   "execution_count": null,
   "id": "d7c96369",
   "metadata": {},
   "outputs": [],
   "source": [
    "curl 'localhost:9200/mapping_weekly-events/weekly-events/1?pretty'"
   ]
  },
  {
   "cell_type": "code",
   "execution_count": null,
   "id": "1c2cabf0",
   "metadata": {},
   "outputs": [],
   "source": [
    "{\n",
    "  \"_index\" : \"mapping_weekly-events\",\n",
    "  \"_type\" : \"weekly-events\",\n",
    "  \"_id\" : \"1\",\n",
    "  \"_version\" : 1,\n",
    "  \"found\" : true,\n",
    "  \"_source\" : {\n",
    "    \"name\" : \"elasticsearch news\",\n",
    "    \"first_occurence\" : \"2011-04-03\",\n",
    "    \"next_event\" : \"Oct 25 2013\"\n",
    "  }\n",
    "}"
   ]
  },
  {
   "cell_type": "code",
   "execution_count": null,
   "id": "4d01d5b2",
   "metadata": {},
   "outputs": [],
   "source": [
    "对于识别文档，elasticsearch使用_uid中的文档类型和ID结合体进行检索文档。_uid字段由_id和_type字段组成，当搜索或者检索文档的时候总是能够获得这两项信息。"
   ]
  },
  {
   "cell_type": "code",
   "execution_count": null,
   "id": "bc3ffefa",
   "metadata": {},
   "outputs": [],
   "source": [
    "curl 'localhost:9200/mapping_weekly-events/weekly-events/1?_source&pretty'"
   ]
  },
  {
   "cell_type": "code",
   "execution_count": null,
   "id": "67fbc7e4",
   "metadata": {},
   "outputs": [],
   "source": [
    "{\n",
    "  \"_index\" : \"mapping_weekly-events\",\n",
    "  \"_type\" : \"weekly-events\",\n",
    "  \"_id\" : \"1\",\n",
    "  \"_version\" : 1,\n",
    "  \"found\" : true,\n",
    "  \"_source\" : {\n",
    "    \"name\" : \"elasticsearch news\",\n",
    "    \"first_occurence\" : \"2011-04-03\",\n",
    "    \"next_event\" : \"Oct 25 2013\"\n",
    "  }\n",
    "}"
   ]
  },
  {
   "cell_type": "raw",
   "id": "1e01c9bb",
   "metadata": {},
   "source": [
    "需要为插入的文档提供id，为了让elasticsearch来生成唯一的id，使用Http post请求并省去id(创建新的索引mapping_logs_autoid)。"
   ]
  },
  {
   "cell_type": "code",
   "execution_count": null,
   "id": "cd8ff2ef",
   "metadata": {},
   "outputs": [],
   "source": [
    "curl -XPUT 'localhost:9200/mapping_logs_autoid?pretty'\n",
    "{\n",
    "  \"acknowledged\" : true,\n",
    "  \"shards_acknowledged\" : true,\n",
    "  \"index\" : \"mapping_logs_autoid\"\n",
    "}"
   ]
  },
  {
   "cell_type": "raw",
   "id": "a411aa5b",
   "metadata": {},
   "source": [
    "在通过auto_id生成的文档中，在返回结果中_id是任意生成并返回给rest client。"
   ]
  },
  {
   "cell_type": "code",
   "execution_count": null,
   "id": "5b67ebaa",
   "metadata": {},
   "outputs": [],
   "source": [
    "curl -H \"Content-Type:application/json\" -XPOST 'localhost:9200/mapping_logs_autoid/auto_id/?pretty' -d '{\n",
    "    \"message\": \"I have an automatic id\"\n",
    "}'"
   ]
  },
  {
   "cell_type": "code",
   "execution_count": null,
   "id": "e6fb7c31",
   "metadata": {},
   "outputs": [],
   "source": [
    "{\n",
    "  \"_index\" : \"mapping_logs_autoid\",\n",
    "  \"_type\" : \"auto_id\",\n",
    "  \"_id\" : \"LTryp2sBZDfSKX83lxIR\",\n",
    "  \"_version\" : 1,\n",
    "  \"result\" : \"created\",\n",
    "  \"_shards\" : {\n",
    "    \"total\" : 2,\n",
    "    \"successful\" : 1,\n",
    "    \"failed\" : 0\n",
    "  },\n",
    "  \"_seq_no\" : 0,\n",
    "  \"_primary_term\" : 1\n",
    "}"
   ]
  },
  {
   "cell_type": "raw",
   "id": "b524d8f5",
   "metadata": {},
   "source": [
    "在文档中存储索引的名称，通过索引URL来搜索属于特定索引的文档可能很容易，但是在更为复杂的用例中_index字段可能体现出其价值。"
   ]
  },
  {
   "cell_type": "code",
   "execution_count": null,
   "id": "e0affba2",
   "metadata": {},
   "outputs": [],
   "source": [
    "curl 'localhost:9200/_search?q=_index:mapping_weekly-events'\n",
    "{\"took\":4,\"timed_out\":false,\"_shards\":{\"total\":54,\"successful\":49,\"skipped\":0,\"failed\":0},\"hits\":{\"total\":1,\"max_score\":1.0,\"hits\":[{\"_index\":\"mapping_weekly-events\",\"_type\":\"weekly-events\",\"_id\":\"1\",\"_score\":1.0,\"_source\":{\n",
    "    \"name\": \"elasticsearch news\",\n",
    "    \"first_occurence\": \"2011-04-03\",\n",
    "    \"next_event\": \"Oct 25 2013\"\n",
    "}}]}}"
   ]
  },
  {
   "cell_type": "code",
   "execution_count": null,
   "id": "8a5ec8b5",
   "metadata": {},
   "outputs": [],
   "source": [
    "使用文档更新api，通过发送部分文档，增加或替换现有文档的一部分(使用_update的api,更新mapping_events文档中内容)。"
   ]
  },
  {
   "cell_type": "code",
   "execution_count": null,
   "id": "1da6b558",
   "metadata": {},
   "outputs": [],
   "source": [
    "curl -H \"Content-Type:application/json\" -XPOST 'localhost:9200/mapping_events/new-events/1/_update' -d '{\n",
    "    \"doc\": {\n",
    "        \"name\": \"Late Night with Elasticsearch update api\",\n",
    "        \"date\": \"2013-10-25T19:00\"\n",
    "    }\n",
    "}'"
   ]
  },
  {
   "cell_type": "code",
   "execution_count": null,
   "id": "8ffa796e",
   "metadata": {},
   "outputs": [],
   "source": [
    "{\"_index\":\"mapping_events\",\"_type\":\"new-events\",\"_id\":\"1\",\"_version\":2,\"result\":\"updated\",\"_shards\":{\"total\":2,\"successful\":1,\"failed\":0},\"_seq_no\":1,\"_primary_term\":2}"
   ]
  },
  {
   "cell_type": "raw",
   "id": "e776c617",
   "metadata": {},
   "source": [
    "使用curl GET重新查看之前更新过的文档信息(可以看到_version更新到了2.0)"
   ]
  },
  {
   "cell_type": "code",
   "execution_count": null,
   "id": "fc3cc824",
   "metadata": {},
   "outputs": [],
   "source": [
    "curl 'localhost:9200/mapping_events/new-events/1?pretty'"
   ]
  },
  {
   "cell_type": "code",
   "execution_count": null,
   "id": "d4a3c98d",
   "metadata": {},
   "outputs": [],
   "source": [
    "{\n",
    "  \"_index\" : \"mapping_events\",\n",
    "  \"_type\" : \"new-events\",\n",
    "  \"_id\" : \"1\",\n",
    "  \"_version\" : 2,\n",
    "  \"found\" : true,\n",
    "  \"_source\" : {\n",
    "    \"name\" : \"Late Night with Elasticsearch update api\",\n",
    "    \"date\" : \"2013-10-25T19:00\"\n",
    "  }\n",
    "}"
   ]
  },
  {
   "cell_type": "code",
   "execution_count": null,
   "id": "d8074066",
   "metadata": {},
   "outputs": [],
   "source": [
    "使用upsert来创建尚不存在的文档，从字面意思看其是update和insert两个单词的混成词（在通过upsert操作后可以看到新插入的文档）。"
   ]
  },
  {
   "cell_type": "code",
   "execution_count": null,
   "id": "39e0f800",
   "metadata": {},
   "outputs": [],
   "source": [
    "curl -H \"Content-Type:application/json\" -XPOST 'localhost:9200/mapping_events/new-events/2/_update' -d '{\n",
    "    \"doc\": {\n",
    "        \"name\": \"Late Night with Elasticsearch update api item 2\",\n",
    "        \"date\": \"2013-10-25T19:00\"\n",
    "    },\n",
    "    \"upsert\": {\n",
    "        \"name\": \"Elasticsearch upasert operation\",\n",
    "        \"date\": \"2013-10-25T19:10\"\n",
    "    }\n",
    "}'"
   ]
  },
  {
   "cell_type": "code",
   "execution_count": null,
   "id": "a26478df",
   "metadata": {},
   "outputs": [],
   "source": [
    "{\"_index\":\"mapping_events\",\"_type\":\"new-events\",\"_id\":\"2\",\"_version\":1,\"result\":\"created\",\"_shards\":{\"total\":2,\"successful\":1,\"failed\":0},\"_seq_no\":0,\"_primary_term\":2}"
   ]
  },
  {
   "cell_type": "code",
   "execution_count": null,
   "id": "7b02e43e",
   "metadata": {},
   "outputs": [],
   "source": [
    "curl 'localhost:9200/mapping_events/new-events/2?pretty'\n",
    "{\n",
    "  \"_index\" : \"mapping_events\",\n",
    "  \"_type\" : \"new-events\",\n",
    "  \"_id\" : \"2\",\n",
    "  \"_version\" : 1,\n",
    "  \"found\" : true,\n",
    "  \"_source\" : {\n",
    "    \"name\" : \"Elasticsearch upasert operation\",\n",
    "    \"date\" : \"2013-10-25T19:10\"\n",
    "  }\n",
    "}"
   ]
  },
  {
   "cell_type": "raw",
   "id": "7e6821cf",
   "metadata": {},
   "source": [
    "通过版本来实现并发控制（index名称online-shop）,可以通过版本来管理两个并发的更新(其中一个失败了)。"
   ]
  },
  {
   "cell_type": "code",
   "execution_count": null,
   "id": "535b5856",
   "metadata": {},
   "outputs": [],
   "source": [
    "curl -XPUT 'localhost:9200/online-shop?pretty'\n",
    "{\n",
    "  \"acknowledged\" : true,\n",
    "  \"shards_acknowledged\" : true,\n",
    "  \"index\" : \"online-shop\"\n",
    "}"
   ]
  },
  {
   "cell_type": "code",
   "execution_count": null,
   "id": "86afa2e6",
   "metadata": {},
   "outputs": [],
   "source": [
    "curl -H \"Content-Type:application/json\" -XPUT 'localhost:9200/online-shop/shirts/1?pretty' -d '{\n",
    "    \"caption\": \"Learning ES\",\n",
    "    \"price\": 1\n",
    "}'"
   ]
  },
  {
   "cell_type": "code",
   "execution_count": null,
   "id": "15174238",
   "metadata": {},
   "outputs": [],
   "source": [
    "{\n",
    "  \"_index\" : \"online-shop\",\n",
    "  \"_type\" : \"shirts\",\n",
    "  \"_id\" : \"1\",\n",
    "  \"_version\" : 1,\n",
    "  \"result\" : \"created\",\n",
    "  \"_shards\" : {\n",
    "    \"total\" : 2,\n",
    "    \"successful\" : 1,\n",
    "    \"failed\" : 0\n",
    "  },\n",
    "  \"_seq_no\" : 0,\n",
    "  \"_primary_term\" : 1\n",
    "}"
   ]
  },
  {
   "cell_type": "code",
   "execution_count": null,
   "id": "ffaf0896",
   "metadata": {},
   "outputs": [],
   "source": [
    "curl -H \"Content-Type:application/json\"  -XPOST 'localhost:9200/online-shop/shirts/1/_update' -d '{\n",
    "    \"script\": \"Thread.sleep(10000); ctx._source.price=2\"\n",
    "}' &\n",
    "curl -H \"Content-Type:application/json\"  -XPOST 'localhost:9200/online-shop/shirts/1/_update' -d '{\n",
    "    \"script\": \"ctx._source.caption=\\\"Knowing Elasticsearch\\\"\"\n",
    "}'"
   ]
  },
  {
   "cell_type": "code",
   "execution_count": null,
   "id": "13033a50",
   "metadata": {},
   "outputs": [],
   "source": [
    "{\"_index\":\"online-shop\",\"_type\":\"shirts\",\"_id\":\"1\",\"_version\":2,\"result\":\"updated\",\"_shards\":{\"total\":2,\"successful\":1,\"failed\":0},\"_seq_no\":1,\"_primary_term\":1}"
   ]
  },
  {
   "cell_type": "raw",
   "id": "45ac15c6",
   "metadata": {},
   "source": [
    "冲突发生时自动重试更新操作（可以使用retry_on_conflict进行失败重试）"
   ]
  },
  {
   "cell_type": "code",
   "execution_count": null,
   "id": "9802e03f",
   "metadata": {},
   "outputs": [],
   "source": [
    "curl -H \"Content-Type:application/json\" -XPOST 'localhost:9200/online-shop/shirts/1/_update?retry_on_conflict=3' -d '{\n",
    "    \"script\": \"ctx._source.price = 2\"\n",
    "}'\n",
    "{\"_index\":\"online-shop\",\"_type\":\"shirts\",\"_id\":\"1\",\"_version\":3,\"result\":\"updated\",\"_shards\":{\"total\":2,\"successful\":1,\"failed\":0},\"_seq_no\":2,\"_primary_term\":1}"
   ]
  },
  {
   "cell_type": "raw",
   "id": "0ac8805e",
   "metadata": {},
   "source": [
    "使用elasticsearch查看更新过的文档信息，对于并发控制的文档可以通过版本号version进行检索。"
   ]
  },
  {
   "cell_type": "code",
   "execution_count": null,
   "id": "6dfa79fa",
   "metadata": {},
   "outputs": [],
   "source": [
    "curl 'localhost:9200/online-shop/shirts/1?pretty'\n",
    "{\n",
    "  \"_index\" : \"online-shop\",\n",
    "  \"_type\" : \"shirts\",\n",
    "  \"_id\" : \"1\",\n",
    "  \"_version\" : 3,\n",
    "  \"found\" : true,\n",
    "  \"_source\" : {\n",
    "    \"caption\" : \"Knowing Elasticsearch\",\n",
    "    \"price\" : 2\n",
    "  }\n",
    "}"
   ]
  },
  {
   "cell_type": "code",
   "execution_count": null,
   "id": "08597890",
   "metadata": {},
   "outputs": [],
   "source": [
    "curl -H \"Content-Type:application/json\" -XPUT 'localhost:9200/online-shop/shirts/1?version=3' -d '{\n",
    "    \"caption\": \"I Know about Elasticsearch Version\",\n",
    "    \"price\": 5\n",
    "}'"
   ]
  },
  {
   "cell_type": "code",
   "execution_count": null,
   "id": "970f232d",
   "metadata": {},
   "outputs": [],
   "source": [
    "{\"_index\":\"online-shop\",\"_type\":\"shirts\",\"_id\":\"1\",\"_version\":4,\"result\":\"updated\",\"_shards\":{\"total\":2,\"successful\":1,\"failed\":0},\"_seq_no\":3,\"_primary_term\":1}"
   ]
  },
  {
   "cell_type": "raw",
   "id": "c92f479d",
   "metadata": {},
   "source": [
    "通过elasticsearch删除数据(通过文档id删除单个文档或者一组文档/删除整个索引/关闭整个索引)"
   ]
  },
  {
   "cell_type": "code",
   "execution_count": null,
   "id": "9f26cbbb",
   "metadata": {},
   "outputs": [],
   "source": [
    "curl -XDELETE 'localhost:9200/online-shop/shirts/1'\n",
    "{\"_index\":\"online-shop\",\"_type\":\"shirts\",\"_id\":\"1\",\"_version\":5,\"result\":\"deleted\",\"_shards\":{\"total\":2,\"successful\":1,\"failed\":0},\"_seq_no\":4,\"_primary_term\":1}"
   ]
  },
  {
   "cell_type": "raw",
   "id": "a67207a0",
   "metadata": {},
   "source": [
    "可以通过shirts删除整个映射类型，包括映射类型以及查询匹配的文档。"
   ]
  },
  {
   "cell_type": "code",
   "execution_count": null,
   "id": "4422af3f",
   "metadata": {},
   "outputs": [],
   "source": [
    "curl -XDELETE 'localhost:9200/online-shop/shirts'"
   ]
  },
  {
   "cell_type": "raw",
   "id": "b8768cfe",
   "metadata": {},
   "source": [
    "删除在online-shop索引中存在关键字elasticsearch的所有文档"
   ]
  },
  {
   "cell_type": "code",
   "execution_count": null,
   "id": "c2aa7e9f",
   "metadata": {},
   "outputs": [],
   "source": [
    "curl -XDELETE 'localhost:9200/online-shop/_query?q=elasticsearch'"
   ]
  },
  {
   "cell_type": "raw",
   "id": "f69f1295",
   "metadata": {},
   "source": [
    "删除整个索引，需要发送一个DELETE请求到该索引的URL中。通过提供以逗号分隔的列表，还可以删除多个索引(如果将索引名称改为_all，甚至可以删除全部的索引)。删除索引是很快的，因为它基本上就是移除了和索引分片相关的文件。和删除单独的文档相比，删除文件系统中的文件更快。"
   ]
  },
  {
   "cell_type": "code",
   "execution_count": null,
   "id": "57a9268c",
   "metadata": {},
   "outputs": [],
   "source": [
    "curl -XDELETE 'localhost:9200/online-shop/'"
   ]
  },
  {
   "cell_type": "raw",
   "id": "b080fe5a",
   "metadata": {},
   "source": [
    "关闭索引除了删除索引还可以选择关闭它们，如果关闭了一个索引，就无法通过elasticsearch来读取和写入其中的数据，直到再次打开它。"
   ]
  },
  {
   "cell_type": "code",
   "execution_count": null,
   "id": "a576a6e9",
   "metadata": {},
   "outputs": [],
   "source": [
    "curl -XPOST 'localhost:9200/online-shop/_close'"
   ]
  },
  {
   "cell_type": "raw",
   "id": "e52d6493",
   "metadata": {},
   "source": [
    "为了再次将之前关闭的索引打开，只需要将端点换为_open"
   ]
  },
  {
   "cell_type": "code",
   "execution_count": null,
   "id": "a009dc26",
   "metadata": {},
   "outputs": [],
   "source": [
    "curl -XPOST 'localhost:9200/online-shop/_open'"
   ]
  }
 ],
 "metadata": {
  "kernelspec": {
   "display_name": "Python 3",
   "language": "python",
   "name": "python3"
  },
  "language_info": {
   "codemirror_mode": {
    "name": "ipython",
    "version": 3
   },
   "file_extension": ".py",
   "mimetype": "text/x-python",
   "name": "python",
   "nbconvert_exporter": "python",
   "pygments_lexer": "ipython3",
   "version": "3.8.8"
  }
 },
 "nbformat": 4,
 "nbformat_minor": 5
}
