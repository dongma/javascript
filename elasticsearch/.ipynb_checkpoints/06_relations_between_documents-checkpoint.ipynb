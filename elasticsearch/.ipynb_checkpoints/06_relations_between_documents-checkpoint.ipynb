{
 "cells": [
  {
   "cell_type": "raw",
   "id": "8e2b0234",
   "metadata": {},
   "source": [
    "使用curl创建索引和映射类型 (http的put方法会创建新索引类型event-object-index)"
   ]
  },
  {
   "cell_type": "code",
   "execution_count": null,
   "id": "cb37391b",
   "metadata": {},
   "outputs": [],
   "source": [
    "curl -XPUT 'localhost:9200/event-object-index'\n",
    "{\"acknowledged\":true,\"shards_acknowledged\":true,\"index\":\"event-object-index\"}"
   ]
  },
  {
   "cell_type": "code",
   "execution_count": null,
   "id": "39e7beca",
   "metadata": {},
   "outputs": [],
   "source": [
    "curl -H \"Content-Type:application/json\" 'localhost:9200/event-object-index/event-object/1' -d '{\n",
    "    \"title\": \"Introduction to objects\",\n",
    "    \"location\": {\n",
    "        \"name\": \"Elasticsearch in Action book\",\n",
    "        \"address\": \"chapter 8\"\n",
    "    }\n",
    "}'"
   ]
  },
  {
   "cell_type": "code",
   "execution_count": null,
   "id": "5e76990f",
   "metadata": {},
   "outputs": [],
   "source": [
    "{\"_index\":\"event-object-index\",\"_type\":\"event-object\",\"_id\":\"1\",\"_version\":1,\"result\":\"created\",\"_shards\":{\"total\":2,\"successful\":1,\"failed\":0},\"_seq_no\":0,\"_primary_term\":1}"
   ]
  },
  {
   "cell_type": "raw",
   "id": "c0d517a8",
   "metadata": {},
   "source": [
    "通过curl查看event-object对象的映射类型(_mapping)"
   ]
  },
  {
   "cell_type": "code",
   "execution_count": null,
   "id": "00abfe5e",
   "metadata": {},
   "outputs": [],
   "source": [
    "curl 'localhost:9200/event-object-index/_mapping/event-object?pretty'"
   ]
  },
  {
   "cell_type": "code",
   "execution_count": null,
   "id": "3e03b03d",
   "metadata": {},
   "outputs": [],
   "source": [
    "{\n",
    "  \"event-object-index\" : {\n",
    "    \"mappings\" : {\n",
    "      \"event-object\" : {\n",
    "        \"properties\" : {\n",
    "          \"location\" : {\n",
    "            \"properties\" : {\n",
    "              \"address\" : {\n",
    "                \"type\" : \"text\",\n",
    "                \"fields\" : {\n",
    "                  \"keyword\" : {\n",
    "                    \"type\" : \"keyword\",\n",
    "                    \"ignore_above\" : 256\n",
    "                  }\n",
    "                }\n",
    "              },\n",
    "              \"name\" : {\n",
    "                \"type\" : \"text\",\n",
    "                \"fields\" : {\n",
    "                  \"keyword\" : {\n",
    "                    \"type\" : \"keyword\",\n",
    "                    \"ignore_above\" : 256\n",
    "                  }\n",
    "                }\n",
    "              }\n",
    "            }\n",
    "          },\n",
    "          \"title\" : {\n",
    "            \"type\" : \"text\",\n",
    "            \"fields\" : {\n",
    "              \"keyword\" : {\n",
    "                \"type\" : \"keyword\",\n",
    "                \"ignore_above\" : 256\n",
    "              }\n",
    "            }\n",
    "          }\n",
    "        }\n",
    "      }\n",
    "    }\n",
    "  }\n",
    "}"
   ]
  },
  {
   "cell_type": "raw",
   "id": "b4339621",
   "metadata": {},
   "source": [
    "统计elasticsearch中entid字段的最大长度（通过对属性字段长度进行排序得出结果），\"script\": \"doc['\"'members'\"'].values.length\""
   ]
  },
  {
   "cell_type": "code",
   "execution_count": null,
   "id": "dec1386e",
   "metadata": {},
   "outputs": [],
   "source": [
    "curl -H \"Content-Type:application/json\" '192.168.207.23:9210/entdatasource_20190517/doc/_search?pretty' -d '{\n",
    "    \"query\": {\n",
    "        \"match_all\": {}\n",
    "    },\n",
    "    \"sort\": {\n",
    "        \"_script\": {\n",
    "            \"script\": \"doc['\"'creditcode'\"'].value.length()\",\n",
    "            \"type\": \"number\",\n",
    "            \"order\": \"desc\"\n",
    "        }\n",
    "    },\n",
    "    \"_source\": [\"creditcode\", \"name\"]\n",
    "}'"
   ]
  },
  {
   "cell_type": "raw",
   "id": "341d9e04",
   "metadata": {},
   "source": [
    "映射并索引嵌套文档，嵌套文档和对象映射看上去差不多（不过其type不是object，而必须是nested）。"
   ]
  },
  {
   "cell_type": "code",
   "execution_count": null,
   "id": "f099dd27",
   "metadata": {},
   "outputs": [],
   "source": [
    "curl -XPUT 'localhost:9200/group-nested-index'\n",
    "{\"acknowledged\":true,\"shards_acknowledged\":true,\"index\":\"group-nested-index\"}"
   ]
  },
  {
   "cell_type": "code",
   "execution_count": null,
   "id": "0a0741c1",
   "metadata": {},
   "outputs": [],
   "source": [
    "curl -H \"Content-Type:application/json\" -XPUT 'localhost:9200/group-nested-index/_mapping_group-nested' -d '{\n",
    "}'"
   ]
  }
 ],
 "metadata": {
  "kernelspec": {
   "display_name": "Python 3",
   "language": "python",
   "name": "python3"
  },
  "language_info": {
   "codemirror_mode": {
    "name": "ipython",
    "version": 3
   },
   "file_extension": ".py",
   "mimetype": "text/x-python",
   "name": "python",
   "nbconvert_exporter": "python",
   "pygments_lexer": "ipython3",
   "version": "3.8.8"
  }
 },
 "nbformat": 4,
 "nbformat_minor": 5
}
